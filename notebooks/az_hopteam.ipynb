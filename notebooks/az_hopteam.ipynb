{
 "cells": [
  {
   "cell_type": "code",
   "execution_count": 1,
   "metadata": {},
   "outputs": [],
   "source": [
    "import sqlite3\n",
    "import pandas as pd\n",
    "from tqdm.notebook import tqdm"
   ]
  },
  {
   "cell_type": "markdown",
   "metadata": {},
   "source": [
    "## NPPES data filtering\n",
    "The NPPES dataset contains a large number of fields, only a few of which are relevant to this project:\n",
    "\n",
    "'NPI'\n",
    "Entity Type, indicated by the 'Entity Type Code' field:\n",
    "1 = Provider (doctors, nurses, etc.)\n",
    "2 = Facility (Hospitals, Urgent Care, Doctors Offices)\n",
    "Entity Name: Either First/Last or Organization or Other Organization Name contained in the following fields:\n",
    "'Provider Organization Name (Legal Business Name)'\n",
    "'Provider Last Name (Legal Name)'\n",
    "'Provider First Name'\n",
    "'Provider Middle Name'\n",
    "'Provider Name Prefix Text'\n",
    "'Provider Name Suffix Text'\n",
    "'Provider Credential Text'\n",
    "Address: Business Practice Location (not mailing), contained in the following fields:\n",
    "'Provider First Line Business Mailing Address'\n",
    "'Provider Second Line Business Mailing Address'\n",
    "'Provider Business Mailing Address City Name'\n",
    "'Provider Business Mailing Address State Name'\n",
    "'Provider Business Mailing Address Postal Code'\n",
    "The provider's taxonomy code, which is contained in one of the 'Healthcare Provider Taxonomy Code*' columns. A provider can have up to 15 taxonomy codes, but we want the one which has Primary Switch = Y in the associated 'Healthcare Provider Primary Taxonomy Switch*' field. Note that this does not always occur in spot 1."
   ]
  },
  {
   "cell_type": "code",
   "execution_count": 2,
   "metadata": {},
   "outputs": [],
   "source": [
    "nppes = pd.DataFrame()\n",
    "\n",
    "db = sqlite3.connect('data/nppes_lite.sqlite')\n",
    "\n",
    "def run_query(n):\n",
    "    query = '''\n",
    "    SELECT npi, \n",
    "    entity_type_code,\n",
    "    [provider_organization_name_(legal_business_name)],\n",
    "    [provider_last_name_(legal_name)],\n",
    "    provider_first_name,\n",
    "    provider_middle_name,\n",
    "    provider_name_prefix_text,\n",
    "    provider_name_suffix_text,\n",
    "    provider_credential_text,\n",
    "    provider_first_line_business_practice_location_address,\n",
    "    provider_second_line_business_practice_location_address,\n",
    "    provider_business_practice_location_address_city_name,\n",
    "    provider_business_practice_location_address_state_name,\n",
    "    provider_business_practice_location_address_postal_code,\n",
    "    healthcare_provider_taxonomy_code_{0} AS taxonomy_code\n",
    "    FROM nppes_raw\n",
    "    WHERE healthcare_provider_primary_taxonomy_switch_{0} = 'Y' AND\n",
    "    entity_type_code IN (1,2)\n",
    "    '''.format(n)\n",
    "    nppes = pd.read_sql(query, db)\n",
    "    return nppes\n",
    "\n",
    "for i in range (1,16):\n",
    "    results = run_query(i)\n",
    "    nppes = nppes.append(results)"
   ]
  },
  {
   "cell_type": "markdown",
   "metadata": {},
   "source": [
    "#### converting a dataframe to a table in the database"
   ]
  },
  {
   "cell_type": "markdown",
   "metadata": {},
   "source": [
    "nppes.to_sql('nppes', db, if_exists = 'append', index = False) "
   ]
  },
  {
   "cell_type": "markdown",
   "metadata": {},
   "source": [
    "db.close()"
   ]
  },
  {
   "cell_type": "markdown",
   "metadata": {},
   "source": [
    "nppes.head()"
   ]
  },
  {
   "cell_type": "markdown",
   "metadata": {},
   "source": [
    "## Checking if all tables went into db"
   ]
  },
  {
   "cell_type": "markdown",
   "metadata": {},
   "source": [
    "db = sqlite3.connect('data/nppes_lite.sqlite')\n",
    "\n",
    "query= '''\n",
    "SELECT *\n",
    "FROM nppes_raw\n",
    "LIMIT 5\n",
    "'''\n",
    "df = pd.read_sql(query, db)\n",
    "df.head()"
   ]
  },
  {
   "cell_type": "markdown",
   "metadata": {},
   "source": [
    "db = sqlite3.connect('data/nppes_lite.sqlite')\n",
    "\n",
    "query= '''\n",
    "SELECT *\n",
    "FROM hop_team\n",
    "LIMIT 5\n",
    "'''\n",
    "df = pd.read_sql(query, db)\n",
    "df.head()"
   ]
  },
  {
   "cell_type": "markdown",
   "metadata": {
    "scrolled": true
   },
   "source": [
    "db = sqlite3.connect('data/nppes_lite.sqlite')\n",
    "\n",
    "query= '''\n",
    "SELECT *\n",
    "FROM nucc_taxonomy\n",
    "LIMIT 5\n",
    "'''\n",
    "df = pd.read_sql(query, db)\n",
    "df.head()"
   ]
  },
  {
   "cell_type": "markdown",
   "metadata": {},
   "source": [
    "db = sqlite3.connect('data/nppes_lite.sqlite')\n",
    "\n",
    "query= '''\n",
    "SELECT *\n",
    "FROM zip_cbsa\n",
    "LIMIT 5\n",
    "'''\n",
    "df = pd.read_sql(query, db)\n",
    "df.head()"
   ]
  },
  {
   "cell_type": "markdown",
   "metadata": {},
   "source": [
    "db = sqlite3.connect('data/nppes_lite.sqlite')\n",
    "\n",
    "query= '''\n",
    "SELECT *\n",
    "FROM nppes\n",
    "LIMIT 5\n",
    "'''\n",
    "df = pd.read_sql(query, db)\n",
    "df.head()"
   ]
  },
  {
   "cell_type": "markdown",
   "metadata": {},
   "source": [
    "### Adjusting nppes column names within sqlite "
   ]
  },
  {
   "cell_type": "markdown",
   "metadata": {},
   "source": [
    "db = sqlite3.connect('data/nppes_lite.sqlite')\n",
    "\n",
    "db.execute('ALTER TABLE nppes RENAME COLUMN [provider_organization_name_(legal_business_name)] TO org_name')\n",
    "db.execute('ALTER TABLE nppes RENAME COLUMN [provider_last_name_(legal_name)] TO last_name')\n",
    "db.execute('ALTER TABLE nppes RENAME COLUMN provider_first_name TO first_name')\n",
    "db.execute('ALTER TABLE nppes RENAME COLUMN provider_middle_name TO middle_name')\n",
    "db.execute('ALTER TABLE nppes RENAME COLUMN provider_name_prefix_text TO name_prefix')\n",
    "db.execute('ALTER TABLE nppes RENAME COLUMN provider_name_suffix_text TO name_suffix')\n",
    "db.execute('ALTER TABLE nppes RENAME COLUMN provider_credential_text TO provider_credential')\n",
    "db.execute('ALTER TABLE nppes RENAME COLUMN provider_first_line_business_practice_location_address TO address_1')\n",
    "db.execute('ALTER TABLE nppes RENAME COLUMN provider_second_line_business_practice_location_address TO address_2')\n",
    "db.execute('ALTER TABLE nppes RENAME COLUMN provider_business_practice_location_address_city_name TO city')\n",
    "db.execute('ALTER TABLE nppes RENAME COLUMN provider_business_practice_location_address_state_name TO state')\n",
    "db.execute('ALTER TABLE nppes RENAME COLUMN provider_business_practice_location_address_postal_code TO zip')\n",
    "\n",
    "db.close()"
   ]
  },
  {
   "cell_type": "markdown",
   "metadata": {},
   "source": [
    "### Database is hopefully complete"
   ]
  },
  {
   "cell_type": "code",
   "execution_count": null,
   "metadata": {},
   "outputs": [],
   "source": []
  },
  {
   "cell_type": "code",
   "execution_count": null,
   "metadata": {},
   "outputs": [],
   "source": []
  }
 ],
 "metadata": {
  "kernelspec": {
   "display_name": "Python 3",
   "language": "python",
   "name": "python3"
  },
  "language_info": {
   "codemirror_mode": {
    "name": "ipython",
    "version": 3
   },
   "file_extension": ".py",
   "mimetype": "text/x-python",
   "name": "python",
   "nbconvert_exporter": "python",
   "pygments_lexer": "ipython3",
   "version": "3.8.3"
  }
 },
 "nbformat": 4,
 "nbformat_minor": 4
}
