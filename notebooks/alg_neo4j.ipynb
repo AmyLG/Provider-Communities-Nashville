{
 "cells": [
  {
   "cell_type": "code",
   "execution_count": 1,
   "metadata": {},
   "outputs": [
    {
     "name": "stderr",
     "output_type": "stream",
     "text": [
      "/Users/armelleleguelte/anaconda3/lib/python3.7/site-packages/statsmodels/tools/_testing.py:19: FutureWarning: pandas.util.testing is deprecated. Use the functions in the public API at pandas.testing instead.\n",
      "  import pandas.util.testing as tm\n"
     ]
    }
   ],
   "source": [
    "import pandas as pd\n",
    "import plotly.express as px\n",
    "import seaborn as sns\n",
    "import matplotlib.pyplot as plt"
   ]
  },
  {
   "cell_type": "code",
   "execution_count": 2,
   "metadata": {},
   "outputs": [],
   "source": [
    "pd.options.display.max_rows = None"
   ]
  },
  {
   "cell_type": "markdown",
   "metadata": {},
   "source": [
    "## 1-Look for \"communities\" of providers in the Nashville/Davidson County CBSA. Make use of the Louvain community detection algorithm from Neo4j:"
   ]
  },
  {
   "cell_type": "code",
   "execution_count": 3,
   "metadata": {},
   "outputs": [
    {
     "data": {
      "text/plain": [
       "(6425, 12)"
      ]
     },
     "execution_count": 3,
     "metadata": {},
     "output_type": "execute_result"
    }
   ],
   "source": [
    "nash_final_mini = pd.read_csv('../data/nash_referrals_final_mini.csv')\n",
    "nash_final_mini.shape"
   ]
  },
  {
   "cell_type": "code",
   "execution_count": 4,
   "metadata": {
    "scrolled": true
   },
   "outputs": [
    {
     "data": {
      "text/html": [
       "<div>\n",
       "<style scoped>\n",
       "    .dataframe tbody tr th:only-of-type {\n",
       "        vertical-align: middle;\n",
       "    }\n",
       "\n",
       "    .dataframe tbody tr th {\n",
       "        vertical-align: top;\n",
       "    }\n",
       "\n",
       "    .dataframe thead th {\n",
       "        text-align: right;\n",
       "    }\n",
       "</style>\n",
       "<table border=\"1\" class=\"dataframe\">\n",
       "  <thead>\n",
       "    <tr style=\"text-align: right;\">\n",
       "      <th></th>\n",
       "      <th>from_npi</th>\n",
       "      <th>to_npi</th>\n",
       "      <th>to_facility_name_normalised</th>\n",
       "      <th>from_physician</th>\n",
       "      <th>from_address</th>\n",
       "      <th>from_zip</th>\n",
       "      <th>from_classification</th>\n",
       "      <th>to_facility</th>\n",
       "      <th>to_address</th>\n",
       "      <th>to_zip</th>\n",
       "      <th>to_classification</th>\n",
       "      <th>patient_count</th>\n",
       "    </tr>\n",
       "  </thead>\n",
       "  <tbody>\n",
       "    <tr>\n",
       "      <th>0</th>\n",
       "      <td>1013179860</td>\n",
       "      <td>1417938846</td>\n",
       "      <td>Macon County General Hospital</td>\n",
       "      <td>GARY YAWN</td>\n",
       "      <td>353 NEW SHACKLE ISLAND RD STE 300C</td>\n",
       "      <td>37083</td>\n",
       "      <td>Internal Medicine</td>\n",
       "      <td>MACON COUNTY GENERAL HOSPITAL, INC.</td>\n",
       "      <td>204 MEDICAL DRIVE</td>\n",
       "      <td>37075</td>\n",
       "      <td>General Acute Care Hospital</td>\n",
       "      <td>71</td>\n",
       "    </tr>\n",
       "    <tr>\n",
       "      <th>1</th>\n",
       "      <td>1336126887</td>\n",
       "      <td>1417938846</td>\n",
       "      <td>Macon County General Hospital</td>\n",
       "      <td>ROBERT WEBB</td>\n",
       "      <td>353 NEW SHACKLE ISLAND RD</td>\n",
       "      <td>37083</td>\n",
       "      <td>Urology</td>\n",
       "      <td>MACON COUNTY GENERAL HOSPITAL, INC.</td>\n",
       "      <td>204 MEDICAL DRIVE</td>\n",
       "      <td>37075</td>\n",
       "      <td>General Acute Care Hospital</td>\n",
       "      <td>55</td>\n",
       "    </tr>\n",
       "  </tbody>\n",
       "</table>\n",
       "</div>"
      ],
      "text/plain": [
       "     from_npi      to_npi    to_facility_name_normalised from_physician  \\\n",
       "0  1013179860  1417938846  Macon County General Hospital      GARY YAWN   \n",
       "1  1336126887  1417938846  Macon County General Hospital    ROBERT WEBB   \n",
       "\n",
       "                         from_address  from_zip from_classification  \\\n",
       "0  353 NEW SHACKLE ISLAND RD STE 300C     37083   Internal Medicine   \n",
       "1           353 NEW SHACKLE ISLAND RD     37083             Urology   \n",
       "\n",
       "                           to_facility         to_address  to_zip  \\\n",
       "0  MACON COUNTY GENERAL HOSPITAL, INC.  204 MEDICAL DRIVE   37075   \n",
       "1  MACON COUNTY GENERAL HOSPITAL, INC.  204 MEDICAL DRIVE   37075   \n",
       "\n",
       "             to_classification  patient_count  \n",
       "0  General Acute Care Hospital             71  \n",
       "1  General Acute Care Hospital             55  "
      ]
     },
     "execution_count": 4,
     "metadata": {},
     "output_type": "execute_result"
    }
   ],
   "source": [
    "nash_final_mini.head(2)"
   ]
  },
  {
   "cell_type": "markdown",
   "metadata": {},
   "source": [
    "### A- Prepare the file:"
   ]
  },
  {
   "cell_type": "code",
   "execution_count": 5,
   "metadata": {},
   "outputs": [],
   "source": [
    "### prepare the file for the louvain algortithm (we only need npi and patient count)\n",
    "final_mini = nash_final_mini[['from_npi', 'to_npi', 'patient_count']]"
   ]
  },
  {
   "cell_type": "code",
   "execution_count": 6,
   "metadata": {},
   "outputs": [
    {
     "name": "stdout",
     "output_type": "stream",
     "text": [
      "<class 'pandas.core.frame.DataFrame'>\n",
      "RangeIndex: 6425 entries, 0 to 6424\n",
      "Data columns (total 3 columns):\n",
      " #   Column         Non-Null Count  Dtype\n",
      "---  ------         --------------  -----\n",
      " 0   from_npi       6425 non-null   int64\n",
      " 1   to_npi         6425 non-null   int64\n",
      " 2   patient_count  6425 non-null   int64\n",
      "dtypes: int64(3)\n",
      "memory usage: 150.7 KB\n"
     ]
    }
   ],
   "source": [
    "final_mini.info()"
   ]
  },
  {
   "cell_type": "code",
   "execution_count": 7,
   "metadata": {},
   "outputs": [],
   "source": [
    "### Save file\n",
    "#final_mini.to_csv('../data/final_mini.csv', index=False)"
   ]
  },
  {
   "cell_type": "markdown",
   "metadata": {},
   "source": [
    "### B-Data after Louvain Algorithm:"
   ]
  },
  {
   "cell_type": "code",
   "execution_count": 8,
   "metadata": {},
   "outputs": [
    {
     "data": {
      "text/html": [
       "<div>\n",
       "<style scoped>\n",
       "    .dataframe tbody tr th:only-of-type {\n",
       "        vertical-align: middle;\n",
       "    }\n",
       "\n",
       "    .dataframe tbody tr th {\n",
       "        vertical-align: top;\n",
       "    }\n",
       "\n",
       "    .dataframe thead th {\n",
       "        text-align: right;\n",
       "    }\n",
       "</style>\n",
       "<table border=\"1\" class=\"dataframe\">\n",
       "  <thead>\n",
       "    <tr style=\"text-align: right;\">\n",
       "      <th></th>\n",
       "      <th>name</th>\n",
       "      <th>communityId</th>\n",
       "    </tr>\n",
       "  </thead>\n",
       "  <tbody>\n",
       "    <tr>\n",
       "      <th>0</th>\n",
       "      <td>1003013947</td>\n",
       "      <td>4228</td>\n",
       "    </tr>\n",
       "    <tr>\n",
       "      <th>1</th>\n",
       "      <td>1003019902</td>\n",
       "      <td>4238</td>\n",
       "    </tr>\n",
       "    <tr>\n",
       "      <th>2</th>\n",
       "      <td>1003031261</td>\n",
       "      <td>4228</td>\n",
       "    </tr>\n",
       "    <tr>\n",
       "      <th>3</th>\n",
       "      <td>1003050972</td>\n",
       "      <td>4238</td>\n",
       "    </tr>\n",
       "    <tr>\n",
       "      <th>4</th>\n",
       "      <td>1003063314</td>\n",
       "      <td>4238</td>\n",
       "    </tr>\n",
       "  </tbody>\n",
       "</table>\n",
       "</div>"
      ],
      "text/plain": [
       "         name  communityId\n",
       "0  1003013947         4228\n",
       "1  1003019902         4238\n",
       "2  1003031261         4228\n",
       "3  1003050972         4238\n",
       "4  1003063314         4238"
      ]
     },
     "execution_count": 8,
     "metadata": {},
     "output_type": "execute_result"
    }
   ],
   "source": [
    "final_mini_louvain = pd.read_csv('../data/final_mini_louvain.csv')\n",
    "final_mini_louvain.head()"
   ]
  },
  {
   "cell_type": "code",
   "execution_count": 9,
   "metadata": {},
   "outputs": [],
   "source": [
    "### Merge on from_npi (physician npi)\n",
    "doc_mini = final_mini_louvain.merge(nash_final_mini, left_on='name', right_on='from_npi')"
   ]
  },
  {
   "cell_type": "code",
   "execution_count": 10,
   "metadata": {},
   "outputs": [],
   "source": [
    "doc_mini = doc_mini[[\"name\", \"communityId\", \"patient_count\", \"from_classification\", \"from_zip\", \"to_classification\"]]\n",
    "doc_mini = doc_mini.rename(columns = {'from_zip': 'zip'})"
   ]
  },
  {
   "cell_type": "code",
   "execution_count": 11,
   "metadata": {},
   "outputs": [
    {
     "data": {
      "text/plain": [
       "(6425, 6)"
      ]
     },
     "execution_count": 11,
     "metadata": {},
     "output_type": "execute_result"
    }
   ],
   "source": [
    "doc_mini.shape"
   ]
  },
  {
   "cell_type": "code",
   "execution_count": 12,
   "metadata": {},
   "outputs": [
    {
     "data": {
      "text/html": [
       "<div>\n",
       "<style scoped>\n",
       "    .dataframe tbody tr th:only-of-type {\n",
       "        vertical-align: middle;\n",
       "    }\n",
       "\n",
       "    .dataframe tbody tr th {\n",
       "        vertical-align: top;\n",
       "    }\n",
       "\n",
       "    .dataframe thead th {\n",
       "        text-align: right;\n",
       "    }\n",
       "</style>\n",
       "<table border=\"1\" class=\"dataframe\">\n",
       "  <thead>\n",
       "    <tr style=\"text-align: right;\">\n",
       "      <th></th>\n",
       "      <th>name</th>\n",
       "      <th>communityId</th>\n",
       "      <th>patient_count</th>\n",
       "      <th>from_classification</th>\n",
       "      <th>zip</th>\n",
       "      <th>to_classification</th>\n",
       "    </tr>\n",
       "  </thead>\n",
       "  <tbody>\n",
       "    <tr>\n",
       "      <th>0</th>\n",
       "      <td>1003013947</td>\n",
       "      <td>4228</td>\n",
       "      <td>72</td>\n",
       "      <td>Orthopaedic Surgery</td>\n",
       "      <td>37203</td>\n",
       "      <td>General Acute Care Hospital</td>\n",
       "    </tr>\n",
       "    <tr>\n",
       "      <th>1</th>\n",
       "      <td>1003019902</td>\n",
       "      <td>4238</td>\n",
       "      <td>213</td>\n",
       "      <td>Psychiatry &amp; Neurology</td>\n",
       "      <td>37232</td>\n",
       "      <td>General Acute Care Hospital</td>\n",
       "    </tr>\n",
       "    <tr>\n",
       "      <th>2</th>\n",
       "      <td>1003031261</td>\n",
       "      <td>4228</td>\n",
       "      <td>73</td>\n",
       "      <td>Orthopaedic Surgery</td>\n",
       "      <td>37203</td>\n",
       "      <td>General Acute Care Hospital</td>\n",
       "    </tr>\n",
       "    <tr>\n",
       "      <th>3</th>\n",
       "      <td>1003050972</td>\n",
       "      <td>4238</td>\n",
       "      <td>116</td>\n",
       "      <td>Internal Medicine</td>\n",
       "      <td>37232</td>\n",
       "      <td>General Acute Care Hospital</td>\n",
       "    </tr>\n",
       "    <tr>\n",
       "      <th>4</th>\n",
       "      <td>1003063314</td>\n",
       "      <td>4238</td>\n",
       "      <td>343</td>\n",
       "      <td>Family Medicine</td>\n",
       "      <td>37232</td>\n",
       "      <td>General Acute Care Hospital</td>\n",
       "    </tr>\n",
       "  </tbody>\n",
       "</table>\n",
       "</div>"
      ],
      "text/plain": [
       "         name  communityId  patient_count     from_classification    zip  \\\n",
       "0  1003013947         4228             72     Orthopaedic Surgery  37203   \n",
       "1  1003019902         4238            213  Psychiatry & Neurology  37232   \n",
       "2  1003031261         4228             73     Orthopaedic Surgery  37203   \n",
       "3  1003050972         4238            116       Internal Medicine  37232   \n",
       "4  1003063314         4238            343         Family Medicine  37232   \n",
       "\n",
       "             to_classification  \n",
       "0  General Acute Care Hospital  \n",
       "1  General Acute Care Hospital  \n",
       "2  General Acute Care Hospital  \n",
       "3  General Acute Care Hospital  \n",
       "4  General Acute Care Hospital  "
      ]
     },
     "execution_count": 12,
     "metadata": {},
     "output_type": "execute_result"
    }
   ],
   "source": [
    "doc_mini.head()"
   ]
  },
  {
   "cell_type": "markdown",
   "metadata": {},
   "source": [
    "### C- EDA of communities:"
   ]
  },
  {
   "cell_type": "code",
   "execution_count": 13,
   "metadata": {},
   "outputs": [
    {
     "data": {
      "text/plain": [
       "array([4228, 4238, 2536, 2796, 4220, 4239, 4233, 4241, 4232, 4230])"
      ]
     },
     "execution_count": 13,
     "metadata": {},
     "output_type": "execute_result"
    }
   ],
   "source": [
    "doc_mini.communityId.unique()"
   ]
  },
  {
   "cell_type": "code",
   "execution_count": 14,
   "metadata": {},
   "outputs": [],
   "source": [
    "doc_mini_count = doc_mini.communityId.value_counts().reset_index()"
   ]
  },
  {
   "cell_type": "code",
   "execution_count": 15,
   "metadata": {},
   "outputs": [],
   "source": [
    "doc_mini_count.columns = ['communityId', 'patient_count']"
   ]
  },
  {
   "cell_type": "code",
   "execution_count": 16,
   "metadata": {},
   "outputs": [
    {
     "data": {
      "text/html": [
       "<div>\n",
       "<style scoped>\n",
       "    .dataframe tbody tr th:only-of-type {\n",
       "        vertical-align: middle;\n",
       "    }\n",
       "\n",
       "    .dataframe tbody tr th {\n",
       "        vertical-align: top;\n",
       "    }\n",
       "\n",
       "    .dataframe thead th {\n",
       "        text-align: right;\n",
       "    }\n",
       "</style>\n",
       "<table border=\"1\" class=\"dataframe\">\n",
       "  <thead>\n",
       "    <tr style=\"text-align: right;\">\n",
       "      <th></th>\n",
       "      <th>communityId</th>\n",
       "      <th>patient_count</th>\n",
       "    </tr>\n",
       "  </thead>\n",
       "  <tbody>\n",
       "    <tr>\n",
       "      <th>0</th>\n",
       "      <td>4228</td>\n",
       "      <td>1696</td>\n",
       "    </tr>\n",
       "    <tr>\n",
       "      <th>1</th>\n",
       "      <td>4238</td>\n",
       "      <td>1516</td>\n",
       "    </tr>\n",
       "  </tbody>\n",
       "</table>\n",
       "</div>"
      ],
      "text/plain": [
       "   communityId  patient_count\n",
       "0         4228           1696\n",
       "1         4238           1516"
      ]
     },
     "execution_count": 16,
     "metadata": {},
     "output_type": "execute_result"
    }
   ],
   "source": [
    "doc_mini_count.head(2)"
   ]
  },
  {
   "cell_type": "code",
   "execution_count": 17,
   "metadata": {},
   "outputs": [],
   "source": [
    "community_counts = doc_mini_count.sort_values('patient_count', ascending = False)"
   ]
  },
  {
   "cell_type": "code",
   "execution_count": 18,
   "metadata": {},
   "outputs": [
    {
     "data": {
      "image/png": "[encoded data removed]",
      "text/plain": [
       "<Figure size 1008x432 with 1 Axes>"
      ]
     },
     "metadata": {
      "needs_background": "light"
     },
     "output_type": "display_data"
    }
   ],
   "source": [
    "plt.figure(figsize = (14,6))\n",
    "ax = sns.barplot(data = community_counts, x = 'communityId', y = 'patient_count', \n",
    "            order = community_counts['communityId'], color = 'coral')\n",
    "for item in ax.get_xticklabels(): item.set_rotation(90)\n",
    "plt.ylabel('Number of Nodes')\n",
    "plt.tight_layout()"
   ]
  },
  {
   "cell_type": "code",
   "execution_count": null,
   "metadata": {
    "scrolled": true
   },
   "outputs": [],
   "source": [
    "#fig = px.scatter(doc_mini_count, x=\"index\", y=\"communityId\")\n",
    "#fig.update(layout_showlegend=False)\n",
    "#fig.show()"
   ]
  },
  {
   "cell_type": "markdown",
   "metadata": {},
   "source": [
    "### D- What are the 3 major communities:"
   ]
  },
  {
   "cell_type": "code",
   "execution_count": 19,
   "metadata": {},
   "outputs": [
    {
     "data": {
      "text/html": [
       "<div>\n",
       "<style scoped>\n",
       "    .dataframe tbody tr th:only-of-type {\n",
       "        vertical-align: middle;\n",
       "    }\n",
       "\n",
       "    .dataframe tbody tr th {\n",
       "        vertical-align: top;\n",
       "    }\n",
       "\n",
       "    .dataframe thead th {\n",
       "        text-align: right;\n",
       "    }\n",
       "</style>\n",
       "<table border=\"1\" class=\"dataframe\">\n",
       "  <thead>\n",
       "    <tr style=\"text-align: right;\">\n",
       "      <th></th>\n",
       "      <th>name</th>\n",
       "      <th>communityId</th>\n",
       "      <th>patient_count</th>\n",
       "      <th>from_classification</th>\n",
       "      <th>zip</th>\n",
       "      <th>to_classification</th>\n",
       "    </tr>\n",
       "  </thead>\n",
       "  <tbody>\n",
       "    <tr>\n",
       "      <th>0</th>\n",
       "      <td>1003013947</td>\n",
       "      <td>4228</td>\n",
       "      <td>72</td>\n",
       "      <td>Orthopaedic Surgery</td>\n",
       "      <td>37203</td>\n",
       "      <td>General Acute Care Hospital</td>\n",
       "    </tr>\n",
       "    <tr>\n",
       "      <th>1</th>\n",
       "      <td>1003019902</td>\n",
       "      <td>4238</td>\n",
       "      <td>213</td>\n",
       "      <td>Psychiatry &amp; Neurology</td>\n",
       "      <td>37232</td>\n",
       "      <td>General Acute Care Hospital</td>\n",
       "    </tr>\n",
       "  </tbody>\n",
       "</table>\n",
       "</div>"
      ],
      "text/plain": [
       "         name  communityId  patient_count     from_classification    zip  \\\n",
       "0  1003013947         4228             72     Orthopaedic Surgery  37203   \n",
       "1  1003019902         4238            213  Psychiatry & Neurology  37232   \n",
       "\n",
       "             to_classification  \n",
       "0  General Acute Care Hospital  \n",
       "1  General Acute Care Hospital  "
      ]
     },
     "execution_count": 19,
     "metadata": {},
     "output_type": "execute_result"
    }
   ],
   "source": [
    "community_3_doc = doc_mini[doc_mini.communityId.isin([4228, 4238, 4233])]\n",
    "community_3_doc.head(2)"
   ]
  },
  {
   "cell_type": "code",
   "execution_count": 22,
   "metadata": {},
   "outputs": [],
   "source": [
    "community_3 = community_3_doc.groupby(['communityId','zip'])['patient_count'].agg(['count']).reset_index()"
   ]
  },
  {
   "cell_type": "code",
   "execution_count": 23,
   "metadata": {
    "scrolled": true
   },
   "outputs": [
    {
     "data": {
      "text/html": [
       "<div>\n",
       "<style scoped>\n",
       "    .dataframe tbody tr th:only-of-type {\n",
       "        vertical-align: middle;\n",
       "    }\n",
       "\n",
       "    .dataframe tbody tr th {\n",
       "        vertical-align: top;\n",
       "    }\n",
       "\n",
       "    .dataframe thead th {\n",
       "        text-align: right;\n",
       "    }\n",
       "</style>\n",
       "<table border=\"1\" class=\"dataframe\">\n",
       "  <thead>\n",
       "    <tr style=\"text-align: right;\">\n",
       "      <th></th>\n",
       "      <th>communityId</th>\n",
       "      <th>zip</th>\n",
       "      <th>count</th>\n",
       "    </tr>\n",
       "  </thead>\n",
       "  <tbody>\n",
       "    <tr>\n",
       "      <th>0</th>\n",
       "      <td>4228</td>\n",
       "      <td>37015</td>\n",
       "      <td>26</td>\n",
       "    </tr>\n",
       "    <tr>\n",
       "      <th>1</th>\n",
       "      <td>4228</td>\n",
       "      <td>37030</td>\n",
       "      <td>5</td>\n",
       "    </tr>\n",
       "  </tbody>\n",
       "</table>\n",
       "</div>"
      ],
      "text/plain": [
       "   communityId    zip  count\n",
       "0         4228  37015     26\n",
       "1         4228  37030      5"
      ]
     },
     "execution_count": 23,
     "metadata": {},
     "output_type": "execute_result"
    }
   ],
   "source": [
    "community_3.head(2)"
   ]
  },
  {
   "cell_type": "code",
   "execution_count": 26,
   "metadata": {},
   "outputs": [],
   "source": [
    "### Save file\n",
    "community_3.to_csv('../data/community_3.csv', index=False)"
   ]
  },
  {
   "cell_type": "markdown",
   "metadata": {},
   "source": [
    "**HCA community ID 4228:**"
   ]
  },
  {
   "cell_type": "code",
   "execution_count": 27,
   "metadata": {},
   "outputs": [],
   "source": [
    "id4228_doc = doc_mini[doc_mini.communityId == 4228]"
   ]
  },
  {
   "cell_type": "code",
   "execution_count": 28,
   "metadata": {},
   "outputs": [
    {
     "data": {
      "text/html": [
       "<div>\n",
       "<style scoped>\n",
       "    .dataframe tbody tr th:only-of-type {\n",
       "        vertical-align: middle;\n",
       "    }\n",
       "\n",
       "    .dataframe tbody tr th {\n",
       "        vertical-align: top;\n",
       "    }\n",
       "\n",
       "    .dataframe thead th {\n",
       "        text-align: right;\n",
       "    }\n",
       "</style>\n",
       "<table border=\"1\" class=\"dataframe\">\n",
       "  <thead>\n",
       "    <tr style=\"text-align: right;\">\n",
       "      <th></th>\n",
       "      <th>name</th>\n",
       "      <th>communityId</th>\n",
       "      <th>patient_count</th>\n",
       "      <th>from_classification</th>\n",
       "      <th>zip</th>\n",
       "      <th>to_classification</th>\n",
       "    </tr>\n",
       "  </thead>\n",
       "  <tbody>\n",
       "    <tr>\n",
       "      <th>0</th>\n",
       "      <td>1003013947</td>\n",
       "      <td>4228</td>\n",
       "      <td>72</td>\n",
       "      <td>Orthopaedic Surgery</td>\n",
       "      <td>37203</td>\n",
       "      <td>General Acute Care Hospital</td>\n",
       "    </tr>\n",
       "    <tr>\n",
       "      <th>2</th>\n",
       "      <td>1003031261</td>\n",
       "      <td>4228</td>\n",
       "      <td>73</td>\n",
       "      <td>Orthopaedic Surgery</td>\n",
       "      <td>37203</td>\n",
       "      <td>General Acute Care Hospital</td>\n",
       "    </tr>\n",
       "  </tbody>\n",
       "</table>\n",
       "</div>"
      ],
      "text/plain": [
       "         name  communityId  patient_count  from_classification    zip  \\\n",
       "0  1003013947         4228             72  Orthopaedic Surgery  37203   \n",
       "2  1003031261         4228             73  Orthopaedic Surgery  37203   \n",
       "\n",
       "             to_classification  \n",
       "0  General Acute Care Hospital  \n",
       "2  General Acute Care Hospital  "
      ]
     },
     "execution_count": 28,
     "metadata": {},
     "output_type": "execute_result"
    }
   ],
   "source": [
    "id4228_doc.head(2)"
   ]
  },
  {
   "cell_type": "code",
   "execution_count": 29,
   "metadata": {},
   "outputs": [],
   "source": [
    "id4228_doc_count = id4228_doc.groupby('zip')['patient_count'].agg('count')\n",
    "id4228_doc_count = id4228_doc_count.to_frame().reset_index()"
   ]
  },
  {
   "cell_type": "code",
   "execution_count": 31,
   "metadata": {},
   "outputs": [],
   "source": [
    "### Save file\n",
    "id4228_doc_count.to_csv('../data/id4228_doc_count.csv', index=False)"
   ]
  },
  {
   "cell_type": "code",
   "execution_count": 32,
   "metadata": {},
   "outputs": [],
   "source": [
    "### CommunityID and facility information\n",
    "hosp_mini = final_mini_louvain.merge(nash_final_mini, left_on='name', right_on='to_npi')"
   ]
  },
  {
   "cell_type": "code",
   "execution_count": 33,
   "metadata": {},
   "outputs": [],
   "source": [
    "id4228 = hosp_mini[hosp_mini.communityId == 4228]"
   ]
  },
  {
   "cell_type": "code",
   "execution_count": 34,
   "metadata": {},
   "outputs": [
    {
     "data": {
      "text/plain": [
       "array(['Centennial Medical Center HCA', 'Ashland City Medical Center HCA',\n",
       "       'TriStar Skyline Medical Center HCA',\n",
       "       'Southern Hills Medical Center HCA', 'Summit Medical Center HCA',\n",
       "       'StoneCrest Medical Center HCA'], dtype=object)"
      ]
     },
     "execution_count": 34,
     "metadata": {},
     "output_type": "execute_result"
    }
   ],
   "source": [
    "id4228.to_facility_name_normalised.unique()"
   ]
  },
  {
   "cell_type": "code",
   "execution_count": 35,
   "metadata": {
    "scrolled": true
   },
   "outputs": [
    {
     "data": {
      "text/plain": [
       "array([37203, 37146, 37075, 37207, 37211, 37055, 37205, 37027, 37232,\n",
       "       37076, 37090, 37209, 37167, 37208, 37064, 37215, 37129, 37174,\n",
       "       37072, 37067, 37236, 37172, 37013, 37128, 37015, 37087, 37214,\n",
       "       37228, 37212, 37066, 37083, 37115, 38401, 37073, 38474, 37188,\n",
       "       37138, 37130, 37122, 37186, 37127, 37030, 37218, 37086])"
      ]
     },
     "execution_count": 35,
     "metadata": {},
     "output_type": "execute_result"
    }
   ],
   "source": [
    "id4228.to_zip.unique()"
   ]
  },
  {
   "cell_type": "markdown",
   "metadata": {},
   "source": [
    "**Vanderbilt community ID 4238:**"
   ]
  },
  {
   "cell_type": "code",
   "execution_count": 36,
   "metadata": {},
   "outputs": [],
   "source": [
    "id4238 = hosp_mini[hosp_mini.communityId == 4238]"
   ]
  },
  {
   "cell_type": "code",
   "execution_count": 38,
   "metadata": {},
   "outputs": [
    {
     "data": {
      "text/plain": [
       "array(['Vanderbilt University Medical Center'], dtype=object)"
      ]
     },
     "execution_count": 38,
     "metadata": {},
     "output_type": "execute_result"
    }
   ],
   "source": [
    "id4238.to_facility_name_normalised.unique()"
   ]
  },
  {
   "cell_type": "code",
   "execution_count": 39,
   "metadata": {
    "scrolled": true
   },
   "outputs": [
    {
     "data": {
      "text/plain": [
       "array([37232, 37212])"
      ]
     },
     "execution_count": 39,
     "metadata": {},
     "output_type": "execute_result"
    }
   ],
   "source": [
    "id4238.from_zip.unique()"
   ]
  },
  {
   "cell_type": "code",
   "execution_count": 40,
   "metadata": {},
   "outputs": [],
   "source": [
    "id4238_doc = doc_mini[doc_mini.communityId == 4238]"
   ]
  },
  {
   "cell_type": "code",
   "execution_count": 41,
   "metadata": {},
   "outputs": [],
   "source": [
    "id4238_doc_count = id4238_doc.groupby('zip')['patient_count'].agg('count')\n",
    "id4238_doc_count = id4238_doc_count.to_frame().reset_index()"
   ]
  },
  {
   "cell_type": "code",
   "execution_count": 42,
   "metadata": {},
   "outputs": [],
   "source": [
    "### Save file\n",
    "id4238_doc_count.to_csv('../data/id4238_doc_count.csv', index=False)"
   ]
  },
  {
   "cell_type": "markdown",
   "metadata": {},
   "source": [
    "**St Thomas hospital ID 4233:**"
   ]
  },
  {
   "cell_type": "code",
   "execution_count": 43,
   "metadata": {},
   "outputs": [],
   "source": [
    "id4233_hosp = hosp_mini[hosp_mini.communityId == 4233]"
   ]
  },
  {
   "cell_type": "code",
   "execution_count": 45,
   "metadata": {},
   "outputs": [
    {
     "data": {
      "text/plain": [
       "array(['Saint Thomas West Hospital', 'Saint Thomas Midtown Hospital'],\n",
       "      dtype=object)"
      ]
     },
     "execution_count": 45,
     "metadata": {},
     "output_type": "execute_result"
    }
   ],
   "source": [
    "id4233_hosp.to_facility_name_normalised.unique()"
   ]
  },
  {
   "cell_type": "code",
   "execution_count": 46,
   "metadata": {},
   "outputs": [
    {
     "data": {
      "text/plain": [
       "array([37205, 37236])"
      ]
     },
     "execution_count": 46,
     "metadata": {},
     "output_type": "execute_result"
    }
   ],
   "source": [
    "id4233_hosp.from_zip.unique()"
   ]
  },
  {
   "cell_type": "code",
   "execution_count": 47,
   "metadata": {},
   "outputs": [],
   "source": [
    "id4233_doc = doc_mini[doc_mini.communityId == 4233]"
   ]
  },
  {
   "cell_type": "code",
   "execution_count": 48,
   "metadata": {},
   "outputs": [],
   "source": [
    "id4233_doc_count = id4233_doc.groupby('zip')['patient_count'].agg('count')\n",
    "id4233_doc_count = id4233_doc_count.to_frame().reset_index()"
   ]
  },
  {
   "cell_type": "code",
   "execution_count": 49,
   "metadata": {},
   "outputs": [],
   "source": [
    "### Save file\n",
    "id4233_doc_count.to_csv('../data/id4233_doc_count.csv', index=False)"
   ]
  },
  {
   "cell_type": "markdown",
   "metadata": {},
   "source": [
    "### E-Test Louvain algorithm on 41k rows:"
   ]
  },
  {
   "cell_type": "markdown",
   "metadata": {},
   "source": [
    "NB: with so many rows, it's more difficult to find well defined communities like the data with 6000+ rows."
   ]
  },
  {
   "cell_type": "code",
   "execution_count": null,
   "metadata": {},
   "outputs": [],
   "source": [
    "maxi = pd.read_csv(\"../data/nash_referrals_final_clean.csv\")\n",
    "maxi.head()"
   ]
  },
  {
   "cell_type": "code",
   "execution_count": null,
   "metadata": {},
   "outputs": [],
   "source": [
    "final_maxi = maxi[['from_npi', 'to_npi', 'patient_count']]"
   ]
  },
  {
   "cell_type": "code",
   "execution_count": null,
   "metadata": {},
   "outputs": [],
   "source": [
    "final_maxi.info()"
   ]
  },
  {
   "cell_type": "code",
   "execution_count": null,
   "metadata": {},
   "outputs": [],
   "source": [
    "final_maxi = final_maxi.dropna(axis=0)"
   ]
  },
  {
   "cell_type": "code",
   "execution_count": null,
   "metadata": {},
   "outputs": [],
   "source": [
    "### Save file\n",
    "final_maxi.to_csv('../data/final_maxi.csv', index=False)"
   ]
  },
  {
   "cell_type": "markdown",
   "metadata": {},
   "source": [
    "**Result from the louvain algorithm:**"
   ]
  },
  {
   "cell_type": "code",
   "execution_count": null,
   "metadata": {},
   "outputs": [],
   "source": [
    "final_maxi_louvain = pd.read_csv('../data/final_maxi_louvain.csv')\n",
    "final_maxi_louvain.head()"
   ]
  },
  {
   "cell_type": "code",
   "execution_count": null,
   "metadata": {},
   "outputs": [],
   "source": [
    "merge_hospital_max = final_maxi_louvain.merge(maxi, left_on='name', right_on='to_facility')"
   ]
  },
  {
   "cell_type": "code",
   "execution_count": null,
   "metadata": {},
   "outputs": [],
   "source": [
    "merge_hospital_max.communityId.unique()"
   ]
  },
  {
   "cell_type": "code",
   "execution_count": null,
   "metadata": {},
   "outputs": [],
   "source": [
    "merge_hospital_max.communityId.value_counts()"
   ]
  },
  {
   "cell_type": "code",
   "execution_count": null,
   "metadata": {},
   "outputs": [],
   "source": [
    "id6029 = merge_hospital_max[merge_hospital_max.communityId == 6029]"
   ]
  },
  {
   "cell_type": "code",
   "execution_count": null,
   "metadata": {},
   "outputs": [],
   "source": [
    "id6029.to_facility.unique()"
   ]
  },
  {
   "cell_type": "code",
   "execution_count": null,
   "metadata": {},
   "outputs": [],
   "source": []
  }
 ],
 "metadata": {
  "kernelspec": {
   "display_name": "Python 3",
   "language": "python",
   "name": "python3"
  },
  "language_info": {
   "codemirror_mode": {
    "name": "ipython",
    "version": 3
   },
   "file_extension": ".py",
   "mimetype": "text/x-python",
   "name": "python",
   "nbconvert_exporter": "python",
   "pygments_lexer": "ipython3",
   "version": "3.7.3"
  }
 },
 "nbformat": 4,
 "nbformat_minor": 2
}
